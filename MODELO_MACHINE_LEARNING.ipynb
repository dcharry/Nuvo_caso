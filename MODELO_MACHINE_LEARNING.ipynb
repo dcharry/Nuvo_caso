{
 "cells": [
  {
   "cell_type": "markdown",
   "metadata": {},
   "source": [
    "***ALGORITMOS DE MACHINE LEARNING PARA ESTIMAR EL VALOR DE VENTA DE UN JUGADOR BASADO EN EL DATASET DE FIFA19***\n",
    "\n",
    "Debido a que el problema se basa en su gran medida en predecir una variable segun la causa y efecto entre distintas variables, los algoritmos de Machine Learning a utilizar para esta problematica son los de Regression.\n",
    "\n",
    "La data para entrenar y evluar los modelos es el dataset previamente tratado en el analisis de la base de datos original de la FIFA en el punto anterior (JupyterName = Caso_nuvo)"
   ]
  },
  {
   "cell_type": "code",
   "execution_count": 1,
   "metadata": {},
   "outputs": [],
   "source": [
    "# Data manipulation\n",
    "import pandas as pd\n",
    "import numpy as np\n",
    "\n",
    "# Machine Learning Algorithms\n",
    "from sklearn.linear_model import LinearRegression\n",
    "from sklearn.tree import DecisionTreeRegressor\n",
    "from sklearn.ensemble import RandomForestRegressor\n",
    "from sklearn.svm import SVR\n",
    "from sklearn.ensemble import GradientBoostingRegressor\n",
    "\n",
    "# Model Selection and Evaluation\n",
    "from sklearn.model_selection import train_test_split\n",
    "\n",
    "# Feature Scaling\n",
    "from sklearn.preprocessing import StandardScaler\n",
    "\n",
    "# Performance\n",
    "from sklearn.metrics import mean_squared_error\n",
    "from sklearn.metrics import mean_absolute_error\n",
    "from sklearn.metrics import r2_score"
   ]
  },
  {
   "cell_type": "code",
   "execution_count": 2,
   "metadata": {},
   "outputs": [],
   "source": [
    "data_interes = pd.read_csv('Data_interes.csv',header=0, encoding='utf-8')"
   ]
  },
  {
   "cell_type": "code",
   "execution_count": 4,
   "metadata": {
    "scrolled": true
   },
   "outputs": [
    {
     "data": {
      "text/plain": [
       "[dtype('int64'),\n",
       " dtype('O'),\n",
       " dtype('int64'),\n",
       " dtype('int64'),\n",
       " dtype('int64'),\n",
       " dtype('float64'),\n",
       " dtype('float64'),\n",
       " dtype('float64'),\n",
       " dtype('float64'),\n",
       " dtype('float64'),\n",
       " dtype('float64'),\n",
       " dtype('float64'),\n",
       " dtype('float64'),\n",
       " dtype('float64'),\n",
       " dtype('float64'),\n",
       " dtype('float64'),\n",
       " dtype('float64'),\n",
       " dtype('float64'),\n",
       " dtype('float64'),\n",
       " dtype('float64'),\n",
       " dtype('float64'),\n",
       " dtype('float64'),\n",
       " dtype('float64'),\n",
       " dtype('float64'),\n",
       " dtype('float64'),\n",
       " dtype('float64'),\n",
       " dtype('float64'),\n",
       " dtype('float64'),\n",
       " dtype('float64'),\n",
       " dtype('float64'),\n",
       " dtype('float64'),\n",
       " dtype('float64'),\n",
       " dtype('float64'),\n",
       " dtype('float64'),\n",
       " dtype('float64'),\n",
       " dtype('float64'),\n",
       " dtype('float64'),\n",
       " dtype('float64'),\n",
       " dtype('float64'),\n",
       " dtype('float64'),\n",
       " dtype('float64'),\n",
       " dtype('float64'),\n",
       " dtype('float64'),\n",
       " dtype('float64'),\n",
       " dtype('float64'),\n",
       " dtype('float64'),\n",
       " dtype('float64')]"
      ]
     },
     "execution_count": 4,
     "metadata": {},
     "output_type": "execute_result"
    }
   ],
   "source": [
    "list(data_interes.dtypes) #ver tipo de variables"
   ]
  },
  {
   "cell_type": "markdown",
   "metadata": {},
   "source": [
    "***PREPARACIÓN DE LA DATA:***"
   ]
  },
  {
   "cell_type": "code",
   "execution_count": 5,
   "metadata": {},
   "outputs": [],
   "source": [
    "data_interes = data_interes.drop(['Name'], axis=1) #Elimino la columna Name que no va ser de interes para nuestros modelos "
   ]
  },
  {
   "cell_type": "code",
   "execution_count": 7,
   "metadata": {},
   "outputs": [
    {
     "data": {
      "text/html": [
       "<div>\n",
       "<style scoped>\n",
       "    .dataframe tbody tr th:only-of-type {\n",
       "        vertical-align: middle;\n",
       "    }\n",
       "\n",
       "    .dataframe tbody tr th {\n",
       "        vertical-align: top;\n",
       "    }\n",
       "\n",
       "    .dataframe thead th {\n",
       "        text-align: right;\n",
       "    }\n",
       "</style>\n",
       "<table border=\"1\" class=\"dataframe\">\n",
       "  <thead>\n",
       "    <tr style=\"text-align: right;\">\n",
       "      <th></th>\n",
       "      <th>ID</th>\n",
       "      <th>Age</th>\n",
       "      <th>Overall</th>\n",
       "      <th>Potential</th>\n",
       "      <th>Value</th>\n",
       "      <th>Wage</th>\n",
       "      <th>International Reputation</th>\n",
       "      <th>Weak Foot</th>\n",
       "      <th>Skill Moves</th>\n",
       "      <th>Height</th>\n",
       "      <th>...</th>\n",
       "      <th>Composure</th>\n",
       "      <th>Marking</th>\n",
       "      <th>StandingTackle</th>\n",
       "      <th>SlidingTackle</th>\n",
       "      <th>GKDiving</th>\n",
       "      <th>GKHandling</th>\n",
       "      <th>GKKicking</th>\n",
       "      <th>GKPositioning</th>\n",
       "      <th>GKReflexes</th>\n",
       "      <th>Release Clause</th>\n",
       "    </tr>\n",
       "  </thead>\n",
       "  <tbody>\n",
       "    <tr>\n",
       "      <th>0</th>\n",
       "      <td>158023</td>\n",
       "      <td>31</td>\n",
       "      <td>94</td>\n",
       "      <td>94</td>\n",
       "      <td>110500000.0</td>\n",
       "      <td>565000.0</td>\n",
       "      <td>5.0</td>\n",
       "      <td>4.0</td>\n",
       "      <td>4.0</td>\n",
       "      <td>67.0</td>\n",
       "      <td>...</td>\n",
       "      <td>96.0</td>\n",
       "      <td>33.0</td>\n",
       "      <td>28.0</td>\n",
       "      <td>26.0</td>\n",
       "      <td>6.0</td>\n",
       "      <td>11.0</td>\n",
       "      <td>15.0</td>\n",
       "      <td>14.0</td>\n",
       "      <td>8.0</td>\n",
       "      <td>226500000.0</td>\n",
       "    </tr>\n",
       "    <tr>\n",
       "      <th>1</th>\n",
       "      <td>20801</td>\n",
       "      <td>33</td>\n",
       "      <td>94</td>\n",
       "      <td>94</td>\n",
       "      <td>77000000.0</td>\n",
       "      <td>405000.0</td>\n",
       "      <td>5.0</td>\n",
       "      <td>4.0</td>\n",
       "      <td>5.0</td>\n",
       "      <td>74.0</td>\n",
       "      <td>...</td>\n",
       "      <td>95.0</td>\n",
       "      <td>28.0</td>\n",
       "      <td>31.0</td>\n",
       "      <td>23.0</td>\n",
       "      <td>7.0</td>\n",
       "      <td>11.0</td>\n",
       "      <td>15.0</td>\n",
       "      <td>14.0</td>\n",
       "      <td>11.0</td>\n",
       "      <td>127100000.0</td>\n",
       "    </tr>\n",
       "    <tr>\n",
       "      <th>2</th>\n",
       "      <td>190871</td>\n",
       "      <td>26</td>\n",
       "      <td>92</td>\n",
       "      <td>93</td>\n",
       "      <td>118500000.0</td>\n",
       "      <td>290000.0</td>\n",
       "      <td>5.0</td>\n",
       "      <td>5.0</td>\n",
       "      <td>5.0</td>\n",
       "      <td>69.0</td>\n",
       "      <td>...</td>\n",
       "      <td>94.0</td>\n",
       "      <td>27.0</td>\n",
       "      <td>24.0</td>\n",
       "      <td>33.0</td>\n",
       "      <td>9.0</td>\n",
       "      <td>9.0</td>\n",
       "      <td>15.0</td>\n",
       "      <td>15.0</td>\n",
       "      <td>11.0</td>\n",
       "      <td>228100000.0</td>\n",
       "    </tr>\n",
       "    <tr>\n",
       "      <th>3</th>\n",
       "      <td>193080</td>\n",
       "      <td>27</td>\n",
       "      <td>91</td>\n",
       "      <td>93</td>\n",
       "      <td>72000000.0</td>\n",
       "      <td>260000.0</td>\n",
       "      <td>4.0</td>\n",
       "      <td>3.0</td>\n",
       "      <td>1.0</td>\n",
       "      <td>76.0</td>\n",
       "      <td>...</td>\n",
       "      <td>68.0</td>\n",
       "      <td>15.0</td>\n",
       "      <td>21.0</td>\n",
       "      <td>13.0</td>\n",
       "      <td>90.0</td>\n",
       "      <td>85.0</td>\n",
       "      <td>87.0</td>\n",
       "      <td>88.0</td>\n",
       "      <td>94.0</td>\n",
       "      <td>138600000.0</td>\n",
       "    </tr>\n",
       "    <tr>\n",
       "      <th>4</th>\n",
       "      <td>192985</td>\n",
       "      <td>27</td>\n",
       "      <td>91</td>\n",
       "      <td>92</td>\n",
       "      <td>102000000.0</td>\n",
       "      <td>355000.0</td>\n",
       "      <td>4.0</td>\n",
       "      <td>5.0</td>\n",
       "      <td>4.0</td>\n",
       "      <td>71.0</td>\n",
       "      <td>...</td>\n",
       "      <td>88.0</td>\n",
       "      <td>68.0</td>\n",
       "      <td>58.0</td>\n",
       "      <td>51.0</td>\n",
       "      <td>15.0</td>\n",
       "      <td>13.0</td>\n",
       "      <td>5.0</td>\n",
       "      <td>10.0</td>\n",
       "      <td>13.0</td>\n",
       "      <td>196400000.0</td>\n",
       "    </tr>\n",
       "    <tr>\n",
       "      <th>5</th>\n",
       "      <td>183277</td>\n",
       "      <td>27</td>\n",
       "      <td>91</td>\n",
       "      <td>91</td>\n",
       "      <td>93000000.0</td>\n",
       "      <td>340000.0</td>\n",
       "      <td>4.0</td>\n",
       "      <td>4.0</td>\n",
       "      <td>4.0</td>\n",
       "      <td>68.0</td>\n",
       "      <td>...</td>\n",
       "      <td>91.0</td>\n",
       "      <td>34.0</td>\n",
       "      <td>27.0</td>\n",
       "      <td>22.0</td>\n",
       "      <td>11.0</td>\n",
       "      <td>12.0</td>\n",
       "      <td>6.0</td>\n",
       "      <td>8.0</td>\n",
       "      <td>8.0</td>\n",
       "      <td>172100000.0</td>\n",
       "    </tr>\n",
       "    <tr>\n",
       "      <th>6</th>\n",
       "      <td>177003</td>\n",
       "      <td>32</td>\n",
       "      <td>91</td>\n",
       "      <td>91</td>\n",
       "      <td>67000000.0</td>\n",
       "      <td>420000.0</td>\n",
       "      <td>4.0</td>\n",
       "      <td>4.0</td>\n",
       "      <td>4.0</td>\n",
       "      <td>68.0</td>\n",
       "      <td>...</td>\n",
       "      <td>84.0</td>\n",
       "      <td>60.0</td>\n",
       "      <td>76.0</td>\n",
       "      <td>73.0</td>\n",
       "      <td>13.0</td>\n",
       "      <td>9.0</td>\n",
       "      <td>7.0</td>\n",
       "      <td>14.0</td>\n",
       "      <td>9.0</td>\n",
       "      <td>137400000.0</td>\n",
       "    </tr>\n",
       "    <tr>\n",
       "      <th>7</th>\n",
       "      <td>176580</td>\n",
       "      <td>31</td>\n",
       "      <td>91</td>\n",
       "      <td>91</td>\n",
       "      <td>80000000.0</td>\n",
       "      <td>455000.0</td>\n",
       "      <td>5.0</td>\n",
       "      <td>4.0</td>\n",
       "      <td>3.0</td>\n",
       "      <td>72.0</td>\n",
       "      <td>...</td>\n",
       "      <td>85.0</td>\n",
       "      <td>62.0</td>\n",
       "      <td>45.0</td>\n",
       "      <td>38.0</td>\n",
       "      <td>27.0</td>\n",
       "      <td>25.0</td>\n",
       "      <td>31.0</td>\n",
       "      <td>33.0</td>\n",
       "      <td>37.0</td>\n",
       "      <td>164000000.0</td>\n",
       "    </tr>\n",
       "    <tr>\n",
       "      <th>8</th>\n",
       "      <td>155862</td>\n",
       "      <td>32</td>\n",
       "      <td>91</td>\n",
       "      <td>91</td>\n",
       "      <td>51000000.0</td>\n",
       "      <td>380000.0</td>\n",
       "      <td>4.0</td>\n",
       "      <td>3.0</td>\n",
       "      <td>3.0</td>\n",
       "      <td>72.0</td>\n",
       "      <td>...</td>\n",
       "      <td>82.0</td>\n",
       "      <td>87.0</td>\n",
       "      <td>92.0</td>\n",
       "      <td>91.0</td>\n",
       "      <td>11.0</td>\n",
       "      <td>8.0</td>\n",
       "      <td>9.0</td>\n",
       "      <td>7.0</td>\n",
       "      <td>11.0</td>\n",
       "      <td>104600000.0</td>\n",
       "    </tr>\n",
       "    <tr>\n",
       "      <th>9</th>\n",
       "      <td>200389</td>\n",
       "      <td>25</td>\n",
       "      <td>90</td>\n",
       "      <td>93</td>\n",
       "      <td>68000000.0</td>\n",
       "      <td>94000.0</td>\n",
       "      <td>3.0</td>\n",
       "      <td>3.0</td>\n",
       "      <td>1.0</td>\n",
       "      <td>74.0</td>\n",
       "      <td>...</td>\n",
       "      <td>70.0</td>\n",
       "      <td>27.0</td>\n",
       "      <td>12.0</td>\n",
       "      <td>18.0</td>\n",
       "      <td>86.0</td>\n",
       "      <td>92.0</td>\n",
       "      <td>78.0</td>\n",
       "      <td>88.0</td>\n",
       "      <td>89.0</td>\n",
       "      <td>144500000.0</td>\n",
       "    </tr>\n",
       "  </tbody>\n",
       "</table>\n",
       "<p>10 rows × 46 columns</p>\n",
       "</div>"
      ],
      "text/plain": [
       "       ID  Age  Overall  Potential        Value      Wage  \\\n",
       "0  158023   31       94         94  110500000.0  565000.0   \n",
       "1   20801   33       94         94   77000000.0  405000.0   \n",
       "2  190871   26       92         93  118500000.0  290000.0   \n",
       "3  193080   27       91         93   72000000.0  260000.0   \n",
       "4  192985   27       91         92  102000000.0  355000.0   \n",
       "5  183277   27       91         91   93000000.0  340000.0   \n",
       "6  177003   32       91         91   67000000.0  420000.0   \n",
       "7  176580   31       91         91   80000000.0  455000.0   \n",
       "8  155862   32       91         91   51000000.0  380000.0   \n",
       "9  200389   25       90         93   68000000.0   94000.0   \n",
       "\n",
       "   International Reputation  Weak Foot  Skill Moves  Height  ...  Composure  \\\n",
       "0                       5.0        4.0          4.0    67.0  ...       96.0   \n",
       "1                       5.0        4.0          5.0    74.0  ...       95.0   \n",
       "2                       5.0        5.0          5.0    69.0  ...       94.0   \n",
       "3                       4.0        3.0          1.0    76.0  ...       68.0   \n",
       "4                       4.0        5.0          4.0    71.0  ...       88.0   \n",
       "5                       4.0        4.0          4.0    68.0  ...       91.0   \n",
       "6                       4.0        4.0          4.0    68.0  ...       84.0   \n",
       "7                       5.0        4.0          3.0    72.0  ...       85.0   \n",
       "8                       4.0        3.0          3.0    72.0  ...       82.0   \n",
       "9                       3.0        3.0          1.0    74.0  ...       70.0   \n",
       "\n",
       "   Marking  StandingTackle  SlidingTackle  GKDiving  GKHandling  GKKicking  \\\n",
       "0     33.0            28.0           26.0       6.0        11.0       15.0   \n",
       "1     28.0            31.0           23.0       7.0        11.0       15.0   \n",
       "2     27.0            24.0           33.0       9.0         9.0       15.0   \n",
       "3     15.0            21.0           13.0      90.0        85.0       87.0   \n",
       "4     68.0            58.0           51.0      15.0        13.0        5.0   \n",
       "5     34.0            27.0           22.0      11.0        12.0        6.0   \n",
       "6     60.0            76.0           73.0      13.0         9.0        7.0   \n",
       "7     62.0            45.0           38.0      27.0        25.0       31.0   \n",
       "8     87.0            92.0           91.0      11.0         8.0        9.0   \n",
       "9     27.0            12.0           18.0      86.0        92.0       78.0   \n",
       "\n",
       "   GKPositioning  GKReflexes  Release Clause  \n",
       "0           14.0         8.0     226500000.0  \n",
       "1           14.0        11.0     127100000.0  \n",
       "2           15.0        11.0     228100000.0  \n",
       "3           88.0        94.0     138600000.0  \n",
       "4           10.0        13.0     196400000.0  \n",
       "5            8.0         8.0     172100000.0  \n",
       "6           14.0         9.0     137400000.0  \n",
       "7           33.0        37.0     164000000.0  \n",
       "8            7.0        11.0     104600000.0  \n",
       "9           88.0        89.0     144500000.0  \n",
       "\n",
       "[10 rows x 46 columns]"
      ]
     },
     "execution_count": 7,
     "metadata": {},
     "output_type": "execute_result"
    }
   ],
   "source": [
    "data_interes.head(10)"
   ]
  },
  {
   "cell_type": "code",
   "execution_count": 8,
   "metadata": {},
   "outputs": [],
   "source": [
    "data_interes.set_index(\"ID\",inplace=True) "
   ]
  },
  {
   "cell_type": "code",
   "execution_count": 10,
   "metadata": {},
   "outputs": [
    {
     "data": {
      "text/plain": [
       "Index(['Age', 'Overall', 'Potential', 'Value', 'Wage',\n",
       "       'International Reputation', 'Weak Foot', 'Skill Moves', 'Height',\n",
       "       'Weight', 'Crossing', 'Finishing', 'HeadingAccuracy', 'ShortPassing',\n",
       "       'Volleys', 'Dribbling', 'Curve', 'FKAccuracy', 'LongPassing',\n",
       "       'BallControl', 'Acceleration', 'SprintSpeed', 'Agility', 'Reactions',\n",
       "       'Balance', 'ShotPower', 'Jumping', 'Stamina', 'Strength', 'LongShots',\n",
       "       'Aggression', 'Interceptions', 'Positioning', 'Vision', 'Penalties',\n",
       "       'Composure', 'Marking', 'StandingTackle', 'SlidingTackle', 'GKDiving',\n",
       "       'GKHandling', 'GKKicking', 'GKPositioning', 'GKReflexes',\n",
       "       'Release Clause'],\n",
       "      dtype='object')"
      ]
     },
     "execution_count": 10,
     "metadata": {},
     "output_type": "execute_result"
    }
   ],
   "source": [
    "data_interes.columns"
   ]
  },
  {
   "cell_type": "code",
   "execution_count": 11,
   "metadata": {},
   "outputs": [],
   "source": [
    "#preparacion de las variables dependientes e independites \n",
    "\n",
    "X = data_interes[['Age', 'Overall', 'Potential','Wage',\n",
    "       'International Reputation', 'Weak Foot', 'Skill Moves', 'Height',\n",
    "       'Weight', 'Crossing', 'Finishing', 'HeadingAccuracy', 'ShortPassing',\n",
    "       'Volleys', 'Dribbling', 'Curve', 'FKAccuracy', 'LongPassing',\n",
    "       'BallControl', 'Acceleration', 'SprintSpeed', 'Agility', 'Reactions',\n",
    "       'Balance', 'ShotPower', 'Jumping', 'Stamina', 'Strength', 'LongShots',\n",
    "       'Aggression', 'Interceptions', 'Positioning', 'Vision', 'Penalties',\n",
    "       'Composure', 'Marking', 'StandingTackle', 'SlidingTackle', 'GKDiving',\n",
    "       'GKHandling', 'GKKicking', 'GKPositioning', 'GKReflexes']]\n",
    "y= data_interes['Value']"
   ]
  },
  {
   "cell_type": "markdown",
   "metadata": {},
   "source": [
    "*Divido la data entre data de entrenamiento y de preueba, se elige 80% para train y 20% test*"
   ]
  },
  {
   "cell_type": "code",
   "execution_count": 14,
   "metadata": {},
   "outputs": [],
   "source": [
    "from sklearn.model_selection import train_test_split\n",
    "X_train, X_test, y_train, y_test = train_test_split(X, y, test_size = 0.2, random_state = 0)"
   ]
  },
  {
   "cell_type": "code",
   "execution_count": 18,
   "metadata": {},
   "outputs": [
    {
     "name": "stdout",
     "output_type": "stream",
     "text": [
      "(14527, 43) (3632, 43)\n",
      "(14527,) (3632,)\n"
     ]
    }
   ],
   "source": [
    "print(X_train.shape , X_test.shape)\n",
    "print(y_train.shape , y_test.shape)"
   ]
  },
  {
   "cell_type": "markdown",
   "metadata": {},
   "source": [
    "=========================================================================="
   ]
  },
  {
   "cell_type": "markdown",
   "metadata": {},
   "source": [
    "***BUILDING MODELS:***\n",
    "\n",
    "*Con el fin de definir que modelo presenta un mejor comportamiento para el caso de estudio, se evaluaran 4 modelos diferentes de regresión, y se concluira cual seria el modelo a utilizar y por que razon, estos modelos seran entrenados con los parametros estandar. los modelos son los siguientes:*\n",
    "\n",
    "1. Lineral Regression\n",
    "2. Decision tree Regression\n",
    "3. Random Forest\n",
    "4. Gradient Boosting Regression Model"
   ]
  },
  {
   "cell_type": "markdown",
   "metadata": {},
   "source": [
    "***LINEAR REGRESSION***"
   ]
  },
  {
   "cell_type": "code",
   "execution_count": 19,
   "metadata": {},
   "outputs": [
    {
     "data": {
      "text/plain": [
       "LinearRegression()"
      ]
     },
     "execution_count": 19,
     "metadata": {},
     "output_type": "execute_result"
    }
   ],
   "source": [
    "regresor = LinearRegression()\n",
    "regresor.fit(X_train, y_train)"
   ]
  },
  {
   "cell_type": "code",
   "execution_count": 21,
   "metadata": {},
   "outputs": [],
   "source": [
    "y_pred = regresor.predict(X_test)"
   ]
  },
  {
   "cell_type": "code",
   "execution_count": 30,
   "metadata": {},
   "outputs": [
    {
     "data": {
      "text/plain": [
       "array([ 2391344.42157392,   622329.05482981,  1560979.22848224,\n",
       "         813636.49500525,   293023.29924454,   -48530.41495531,\n",
       "         194266.72641087, -1659248.94729056,  1095183.79183792,\n",
       "        -561018.62690995])"
      ]
     },
     "execution_count": 30,
     "metadata": {},
     "output_type": "execute_result"
    }
   ],
   "source": [
    "y_pred[:10]"
   ]
  },
  {
   "cell_type": "code",
   "execution_count": 31,
   "metadata": {},
   "outputs": [
    {
     "data": {
      "text/plain": [
       "ID\n",
       "224243    1200000.0\n",
       "236369     425000.0\n",
       "215569    1000000.0\n",
       "192594    1300000.0\n",
       "229189     525000.0\n",
       "237332     325000.0\n",
       "216138     775000.0\n",
       "186646     100000.0\n",
       "244105     450000.0\n",
       "243921     120000.0\n",
       "Name: Value, dtype: float64"
      ]
     },
     "execution_count": 31,
     "metadata": {},
     "output_type": "execute_result"
    }
   ],
   "source": [
    "y_test[:10]"
   ]
  },
  {
   "cell_type": "code",
   "execution_count": 29,
   "metadata": {},
   "outputs": [
    {
     "name": "stdout",
     "output_type": "stream",
     "text": [
      "Accuracy: 78.71 %\n",
      "mse:  6469568152093.938\n",
      "score:  0.787102938306506\n",
      "mae:  1291352.7118814823\n"
     ]
    }
   ],
   "source": [
    "mse = mean_squared_error(y_test, y_pred)\n",
    "mae = mean_absolute_error(y_test, y_pred)\n",
    "score = r2_score(y_test, y_pred)\n",
    "print('Accuracy:',format(score * 100,'.2f'),'%')\n",
    "print('mse: ', mse)\n",
    "print('score: ',score)\n",
    "print('mae: ', mae)"
   ]
  },
  {
   "cell_type": "markdown",
   "metadata": {},
   "source": [
    "*Analisis por cross_val*"
   ]
  },
  {
   "cell_type": "code",
   "execution_count": 26,
   "metadata": {},
   "outputs": [
    {
     "name": "stdout",
     "output_type": "stream",
     "text": [
      "Accuracy: 79.56 %\n",
      "Standard Deviation: 3.69 %\n"
     ]
    }
   ],
   "source": [
    "from sklearn.model_selection import cross_val_score\n",
    "scores = cross_val_score(estimator = regresor, X = X_train, y = y_train, cv = 10)\n",
    "print(\"Accuracy: {:.2f} %\".format(scores.mean() * 100))\n",
    "print(\"Standard Deviation: {:.2f} %\".format(scores.std() * 100))"
   ]
  },
  {
   "cell_type": "code",
   "execution_count": 44,
   "metadata": {},
   "outputs": [
    {
     "data": {
      "text/plain": [
       "<matplotlib.legend.Legend at 0x2c3e9cbb040>"
      ]
     },
     "execution_count": 44,
     "metadata": {},
     "output_type": "execute_result"
    },
    {
     "data": {
      "image/png": "[encoded data removed]",
      "text/plain": [
       "<Figure size 432x288 with 1 Axes>"
      ]
     },
     "metadata": {
      "needs_background": "light"
     },
     "output_type": "display_data"
    }
   ],
   "source": [
    "sb.distplot(y_pred, hist = False, color = 'r', label = 'Predicted Values')\n",
    "sb.distplot(y_test, hist = False, color = 'b', label = 'Actual Values')\n",
    "plt.title('Actual vs Predicted Values', fontsize = 16)\n",
    "plt.xlabel('Values', fontsize = 12)\n",
    "plt.ylabel('Frequency', fontsize = 12)\n",
    "plt.legend(loc = 'upper left', fontsize = 13)"
   ]
  },
  {
   "cell_type": "markdown",
   "metadata": {},
   "source": [
    "***DECISION TREE REGRESSION***"
   ]
  },
  {
   "cell_type": "code",
   "execution_count": 32,
   "metadata": {},
   "outputs": [
    {
     "data": {
      "text/plain": [
       "DecisionTreeRegressor()"
      ]
     },
     "execution_count": 32,
     "metadata": {},
     "output_type": "execute_result"
    }
   ],
   "source": [
    "tree_reg= DecisionTreeRegressor()\n",
    "tree_reg.fit(X_train, y_train)"
   ]
  },
  {
   "cell_type": "code",
   "execution_count": 33,
   "metadata": {},
   "outputs": [],
   "source": [
    "y_tree = tree_reg.predict(X_test)"
   ]
  },
  {
   "cell_type": "code",
   "execution_count": 37,
   "metadata": {},
   "outputs": [
    {
     "name": "stdout",
     "output_type": "stream",
     "text": [
      "Accuracy: 96.92 %\n",
      "mse:  936311674008.8105\n",
      "sqrt-mse:  967631.9930680313\n",
      "score:  0.9691883600976868\n",
      "mae:  183562.7753303965\n"
     ]
    }
   ],
   "source": [
    "mse_tree = mean_squared_error(y_test, y_tree)\n",
    "mae_tree = mean_absolute_error(y_test, y_tree)\n",
    "score_tree = r2_score(y_test, y_tree)\n",
    "tree_rmse = np.sqrt(mse_tree)\n",
    "print('Accuracy:',format(score_tree * 100,'.2f'),'%')\n",
    "print('mse: ', mse_tree)\n",
    "print('sqrt-mse: ', tree_rmse)\n",
    "print('score: ',score_tree)\n",
    "print('mae: ', mae_tree)"
   ]
  },
  {
   "cell_type": "markdown",
   "metadata": {},
   "source": [
    "*Analisis por cross_val*"
   ]
  },
  {
   "cell_type": "code",
   "execution_count": 38,
   "metadata": {},
   "outputs": [
    {
     "name": "stdout",
     "output_type": "stream",
     "text": [
      "Accuracy: 95.14 %\n",
      "Standard Deviation: 1.96 %\n"
     ]
    }
   ],
   "source": [
    "scores_tree = cross_val_score(estimator = tree_reg, X = X_train, y = y_train, cv = 10)\n",
    "print(\"Accuracy: {:.2f} %\".format(scores_tree.mean() * 100))\n",
    "print(\"Standard Deviation: {:.2f} %\".format(scores_tree.std() * 100))"
   ]
  },
  {
   "cell_type": "code",
   "execution_count": 45,
   "metadata": {},
   "outputs": [
    {
     "data": {
      "text/plain": [
       "<matplotlib.legend.Legend at 0x2c3e9d226a0>"
      ]
     },
     "execution_count": 45,
     "metadata": {},
     "output_type": "execute_result"
    },
    {
     "data": {
      "image/png": "[encoded data removed]",
      "text/plain": [
       "<Figure size 432x288 with 1 Axes>"
      ]
     },
     "metadata": {
      "needs_background": "light"
     },
     "output_type": "display_data"
    }
   ],
   "source": [
    "sb.distplot(y_tree, hist = False, color = 'r', label = 'Predicted Values')\n",
    "sb.distplot(y_test, hist = False, color = 'b', label = 'Actual Values')\n",
    "plt.title('Actual vs Predicted Values', fontsize = 16)\n",
    "plt.xlabel('Values', fontsize = 12)\n",
    "plt.ylabel('Frequency', fontsize = 12)\n",
    "plt.legend(loc = 'upper left', fontsize = 13)"
   ]
  },
  {
   "cell_type": "markdown",
   "metadata": {},
   "source": [
    "***RANDOM FOREST***"
   ]
  },
  {
   "cell_type": "code",
   "execution_count": 39,
   "metadata": {},
   "outputs": [
    {
     "data": {
      "text/plain": [
       "RandomForestRegressor(n_estimators=300)"
      ]
     },
     "execution_count": 39,
     "metadata": {},
     "output_type": "execute_result"
    }
   ],
   "source": [
    "forest_reg = RandomForestRegressor(n_estimators = 300)\n",
    "forest_reg.fit(X_train, y_train)"
   ]
  },
  {
   "cell_type": "code",
   "execution_count": 40,
   "metadata": {},
   "outputs": [],
   "source": [
    "y_forest = forest_reg.predict(X_test)"
   ]
  },
  {
   "cell_type": "code",
   "execution_count": 41,
   "metadata": {},
   "outputs": [
    {
     "name": "stdout",
     "output_type": "stream",
     "text": [
      "Accuracy: 98.53 %\n",
      "mse:  445857460974.97565\n",
      "sqrt-mse:  667725.5880786475\n",
      "score:  0.9853279629885386\n",
      "mae:  138172.71475770924\n"
     ]
    }
   ],
   "source": [
    "mse_forest = mean_squared_error(y_test, y_forest)\n",
    "mae_forest = mean_absolute_error(y_test, y_forest)\n",
    "score_forest = r2_score(y_test, y_forest)\n",
    "forest_rmse = np.sqrt(mse_forest)\n",
    "print('Accuracy:',format(score_forest * 100,'.2f'),'%')\n",
    "print('mse: ', mse_forest)\n",
    "print('sqrt-mse: ', forest_rmse)\n",
    "print('score: ',score_forest)\n",
    "print('mae: ', mae_forest)"
   ]
  },
  {
   "cell_type": "code",
   "execution_count": 42,
   "metadata": {},
   "outputs": [],
   "source": [
    "import seaborn as sb\n",
    "import matplotlib.pyplot as plt\n",
    "from matplotlib import style"
   ]
  },
  {
   "cell_type": "code",
   "execution_count": 43,
   "metadata": {},
   "outputs": [
    {
     "data": {
      "text/plain": [
       "<matplotlib.legend.Legend at 0x2c3e9b98160>"
      ]
     },
     "execution_count": 43,
     "metadata": {},
     "output_type": "execute_result"
    },
    {
     "data": {
      "image/png": "[encoded data removed]",
      "text/plain": [
       "<Figure size 432x288 with 1 Axes>"
      ]
     },
     "metadata": {
      "needs_background": "light"
     },
     "output_type": "display_data"
    }
   ],
   "source": [
    "sb.distplot(y_forest, hist = False, color = 'r', label = 'Predicted Values')\n",
    "sb.distplot(y_test, hist = False, color = 'b', label = 'Actual Values')\n",
    "plt.title('Actual vs Predicted Values', fontsize = 16)\n",
    "plt.xlabel('Values', fontsize = 12)\n",
    "plt.ylabel('Frequency', fontsize = 12)\n",
    "plt.legend(loc = 'upper left', fontsize = 13)\n"
   ]
  },
  {
   "cell_type": "markdown",
   "metadata": {},
   "source": [
    "***GRADIENT BOOSTING REGRESSION MODEL***"
   ]
  },
  {
   "cell_type": "code",
   "execution_count": 48,
   "metadata": {},
   "outputs": [
    {
     "data": {
      "text/plain": [
       "GradientBoostingRegressor(n_estimators=500)"
      ]
     },
     "execution_count": 48,
     "metadata": {},
     "output_type": "execute_result"
    }
   ],
   "source": [
    "grad_reg = GradientBoostingRegressor(n_estimators = 500)\n",
    "grad_reg.fit(X_train, y_train)"
   ]
  },
  {
   "cell_type": "code",
   "execution_count": 49,
   "metadata": {},
   "outputs": [],
   "source": [
    "y_grad = grad_reg.predict(X_test)"
   ]
  },
  {
   "cell_type": "code",
   "execution_count": 50,
   "metadata": {},
   "outputs": [
    {
     "name": "stdout",
     "output_type": "stream",
     "text": [
      "Accuracy: 99.17 %\n",
      "mse:  252888450841.46777\n",
      "sqrt-mse:  502880.1555455015\n",
      "score:  0.9916780831649571\n",
      "mae:  149724.19690399352\n"
     ]
    }
   ],
   "source": [
    "mse_grad = mean_squared_error(y_test, y_grad)\n",
    "mae_grad = mean_absolute_error(y_test, y_grad)\n",
    "score_grad = r2_score(y_test, y_grad)\n",
    "grad_rmse = np.sqrt(mse_grad)\n",
    "print('Accuracy:',format(score_grad * 100,'.2f'),'%')\n",
    "print('mse: ', mse_grad)\n",
    "print('sqrt-mse: ', grad_rmse)\n",
    "print('score: ',score_grad)\n",
    "print('mae: ', mae_grad)"
   ]
  },
  {
   "cell_type": "code",
   "execution_count": 54,
   "metadata": {},
   "outputs": [
    {
     "name": "stdout",
     "output_type": "stream",
     "text": [
      "Accuracy: 98.53 %\n",
      "Standard Deviation: 0.64 %\n"
     ]
    }
   ],
   "source": [
    "scores_grad = cross_val_score(estimator = grad_reg, X = X_train, y = y_train, cv = 10)\n",
    "print(\"Accuracy: {:.2f} %\".format(scores_grad.mean() * 100))\n",
    "print(\"Standard Deviation: {:.2f} %\".format(scores_grad.std() * 100))"
   ]
  },
  {
   "cell_type": "code",
   "execution_count": 51,
   "metadata": {},
   "outputs": [
    {
     "data": {
      "text/plain": [
       "<matplotlib.legend.Legend at 0x2c3ea713dc0>"
      ]
     },
     "execution_count": 51,
     "metadata": {},
     "output_type": "execute_result"
    },
    {
     "data": {
      "image/png": "[encoded data removed]",
      "text/plain": [
       "<Figure size 432x288 with 1 Axes>"
      ]
     },
     "metadata": {
      "needs_background": "light"
     },
     "output_type": "display_data"
    }
   ],
   "source": [
    "sb.distplot(y_grad, hist = False, color = 'r', label = 'Predicted Values')\n",
    "sb.distplot(y_test, hist = False, color = 'b', label = 'Actual Values')\n",
    "plt.title('Actual vs Predicted Values', fontsize = 16)\n",
    "plt.xlabel('Values', fontsize = 12)\n",
    "plt.ylabel('Frequency', fontsize = 12)\n",
    "plt.legend(loc = 'upper left', fontsize = 13)"
   ]
  },
  {
   "cell_type": "code",
   "execution_count": 52,
   "metadata": {},
   "outputs": [
    {
     "data": {
      "text/plain": [
       "array([1158004.88551586,  564486.66321644,  961926.87776542,\n",
       "       1286341.98060431,  434694.33547757,  330009.48979238,\n",
       "        693747.64982529,   77988.60769647,  445323.62912173,\n",
       "        116097.35551536])"
      ]
     },
     "execution_count": 52,
     "metadata": {},
     "output_type": "execute_result"
    }
   ],
   "source": [
    "y_grad[:10]"
   ]
  },
  {
   "cell_type": "code",
   "execution_count": 53,
   "metadata": {},
   "outputs": [
    {
     "data": {
      "text/plain": [
       "ID\n",
       "224243    1200000.0\n",
       "236369     425000.0\n",
       "215569    1000000.0\n",
       "192594    1300000.0\n",
       "229189     525000.0\n",
       "237332     325000.0\n",
       "216138     775000.0\n",
       "186646     100000.0\n",
       "244105     450000.0\n",
       "243921     120000.0\n",
       "Name: Value, dtype: float64"
      ]
     },
     "execution_count": 53,
     "metadata": {},
     "output_type": "execute_result"
    }
   ],
   "source": [
    "y_test[:10]"
   ]
  },
  {
   "cell_type": "code",
   "execution_count": 57,
   "metadata": {},
   "outputs": [
    {
     "data": {
      "image/png": "[encoded data removed]",
      "text/plain": [
       "<Figure size 432x432 with 1 Axes>"
      ]
     },
     "metadata": {
      "needs_background": "light"
     },
     "output_type": "display_data"
    }
   ],
   "source": [
    "#Grafica de entrenamiento a partir de la documentación de sklearn\n",
    "\n",
    "params = {'n_estimators': 500,\n",
    "          'max_depth': 4,\n",
    "          'min_samples_split': 5,\n",
    "          'learning_rate': 0.01,\n",
    "          'loss': 'ls'}\n",
    "test_score = np.zeros((params['n_estimators'],), dtype=np.float64)\n",
    "for i, y_grad in enumerate(grad_reg.staged_predict(X_test)):\n",
    "    test_score[i] = grad_reg.loss_(y_test, y_grad)\n",
    "\n",
    "fig = plt.figure(figsize=(6, 6))\n",
    "plt.subplot(1, 1, 1)\n",
    "plt.title('Deviance')\n",
    "plt.plot(np.arange(params['n_estimators']) + 1, grad_reg.train_score_, 'b-',\n",
    "         label='Training Set Deviance')\n",
    "plt.plot(np.arange(params['n_estimators']) + 1, test_score, 'r-',\n",
    "         label='Test Set Deviance')\n",
    "plt.legend(loc='upper right')\n",
    "plt.xlabel('Boosting Iterations')\n",
    "plt.ylabel('Deviance')\n",
    "fig.tight_layout()\n",
    "plt.show()"
   ]
  },
  {
   "cell_type": "markdown",
   "metadata": {},
   "source": [
    "*Importancia de cada caracteristica, se realiza con el fin de saber que peso tiene cada variable sobre el modelo, y discriminar si es necesario algunas, para optimizar nuestro modelo. Para ello se utilizo las funciones brindadas por la documentacion en Sklearn*"
   ]
  },
  {
   "cell_type": "code",
   "execution_count": 62,
   "metadata": {},
   "outputs": [
    {
     "data": {
      "image/png": "[encoded data removed]",
      "text/plain": [
       "<Figure size 864x432 with 2 Axes>"
      ]
     },
     "metadata": {
      "needs_background": "light"
     },
     "output_type": "display_data"
    }
   ],
   "source": [
    "from sklearn.inspection import permutation_importance\n",
    "feature_importance = grad_reg.feature_importances_\n",
    "sorted_idx = np.argsort(feature_importance)\n",
    "pos = np.arange(sorted_idx.shape[0]) + .5\n",
    "fig = plt.figure(figsize=(12, 6))\n",
    "plt.subplot(1, 2, 1)\n",
    "plt.barh(pos, feature_importance[sorted_idx], align='center')\n",
    "plt.yticks(pos, np.array(X.columns)[sorted_idx])\n",
    "plt.title('Feature Importance (MDI)')\n",
    "\n",
    "result = permutation_importance(grad_reg, X_test, y_test, n_repeats=10,\n",
    "                                random_state=42, n_jobs=2)\n",
    "sorted_idx = result.importances_mean.argsort()\n",
    "plt.subplot(1, 2, 2)\n",
    "plt.boxplot(result.importances[sorted_idx].T,\n",
    "            vert=False, labels=np.array(X.columns)[sorted_idx])\n",
    "plt.title(\"Permutation Importance (test set)\")\n",
    "fig.tight_layout()\n",
    "plt.show()"
   ]
  },
  {
   "cell_type": "code",
   "execution_count": 63,
   "metadata": {},
   "outputs": [
    {
     "data": {
      "text/plain": [
       "array([2.43375808e-02, 7.96954226e-01, 9.52701300e-02, 1.59501703e-02,\n",
       "       4.91276840e-05, 4.88948993e-06, 1.39240936e-06, 1.47178889e-05,\n",
       "       2.59451540e-05, 1.09597158e-04, 1.02311916e-02, 2.15457087e-04,\n",
       "       1.38546883e-04, 4.52569369e-05, 5.97073239e-03, 1.33932514e-03,\n",
       "       3.87814212e-04, 1.43268820e-04, 2.87525128e-02, 2.76751224e-05,\n",
       "       2.81568582e-05, 5.44901004e-05, 8.13374994e-03, 2.66195293e-05,\n",
       "       6.30609995e-05, 4.23341389e-05, 1.60774931e-03, 6.90350226e-05,\n",
       "       3.14914480e-03, 3.10723275e-05, 1.56750110e-04, 3.74256139e-03,\n",
       "       3.50936219e-04, 1.03277946e-04, 7.28077911e-04, 1.25579468e-04,\n",
       "       2.05601534e-04, 3.56953056e-04, 1.15734783e-04, 1.57165227e-04,\n",
       "       9.13220922e-05, 6.11649392e-04, 7.94198384e-05])"
      ]
     },
     "execution_count": 63,
     "metadata": {},
     "output_type": "execute_result"
    }
   ],
   "source": [
    "feature_importance"
   ]
  },
  {
   "cell_type": "markdown",
   "metadata": {},
   "source": [
    "==================================================================================="
   ]
  },
  {
   "cell_type": "markdown",
   "metadata": {},
   "source": [
    "***CONCLUSION:***\n",
    "\n",
    "De los 4 modelos analizados se deduce lo siguiente:\n",
    "\n",
    "a. En base al R-squeare score, error absoluto y error cuadratico, el modelo que presenta menor precisión en su predicción es el modelo Linear Regression. Tambien se puede apreciar en la grafica de actual vs predict el modelo presenta evidentes variaciones en la curva de predicción.\n",
    "\n",
    "b. Tanto los modelos tree Regression, Random Forest y Gradient Boosting Regression Model presentaron un accuracy mayor al 95% permitiendo una prediccion aceptable, y se puede observar en cada una de sus graficas. Sin embargo el modelo gradient boosting fue el que mayor accuracy presento llegando a alcanzar un 99.7% y un 98.53% al analizarlo por cross value y una desviación estandar del 0.6%, es decir, el modelo que mejor se ajusta a las necesidades del problema, la cual es predecir el valor de un jugador en el mercado, es gradient boosting.\n",
    "\n",
    "c. Al ser el modelo gradient boosting el que presento mejor resultados, se realizaron otros analisis, como la importancia de cada caracteristica, del cual se ve claramente que la variable que mayor peso tiene al momento de definir el valor de un jugador es el Overall, se intuye que si se desea saber los jugadores sobrevalorados y subvalorados en el mercado, analizar esta variable respecto al valor resulta clave.\n"
   ]
  },
  {
   "cell_type": "markdown",
   "metadata": {},
   "source": [
    "=============================================================================="
   ]
  },
  {
   "cell_type": "markdown",
   "metadata": {},
   "source": [
    "***NOTAS:***\n",
    "\n",
    "A pesar de que los resultados fueron positivos, hay variables que no se tuvieron en cuenta al momento de construir el dataset de entrenamiento, y podrian llegar a mejorar nuestros modelos. Tambien se ha de decir que los hiperparametros de los modelos no fueron modificados ni analizados al momento de montar nuestros modelos, se usaron los parametros estandar.\n",
    "\n",
    "Por otro lado a partir del analisis de features, hay variables que generan poco peso al momento de predecir, y se pueden omitir para optimizar el modelo "
   ]
  },
  {
   "cell_type": "code",
   "execution_count": null,
   "metadata": {},
   "outputs": [],
   "source": []
  }
 ],
 "metadata": {
  "kernelspec": {
   "display_name": "Python 3",
   "language": "python",
   "name": "python3"
  },
  "language_info": {
   "codemirror_mode": {
    "name": "ipython",
    "version": 3
   },
   "file_extension": ".py",
   "mimetype": "text/x-python",
   "name": "python",
   "nbconvert_exporter": "python",
   "pygments_lexer": "ipython3",
   "version": "3.8.5"
  }
 },
 "nbformat": 4,
 "nbformat_minor": 4
}
